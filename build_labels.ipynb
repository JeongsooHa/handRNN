{
 "cells": [
  {
   "cell_type": "code",
   "execution_count": 4,
   "metadata": {},
   "outputs": [],
   "source": [
    "import glob\n",
    "import pickle\n",
    "import os\n",
    "from shutil import copyfile"
   ]
  },
  {
   "cell_type": "code",
   "execution_count": 5,
   "metadata": {},
   "outputs": [
    {
     "data": {
      "text/plain": [
       "['HandstandPushups',\n",
       " 'YoYo',\n",
       " 'Swing',\n",
       " 'Skijet',\n",
       " 'HandstandWalking',\n",
       " 'Rafting',\n",
       " 'JumpRope',\n",
       " 'JavelinThrow',\n",
       " 'BaseballPitch',\n",
       " 'BreastStroke',\n",
       " 'BlowDryHair',\n",
       " 'UnevenBars',\n",
       " 'BabyCrawling',\n",
       " 'RockClimbingIndoor',\n",
       " 'BoxingSpeedBag',\n",
       " 'PushUps',\n",
       " 'Typing',\n",
       " 'StillRings',\n",
       " 'HeadMassage',\n",
       " 'BodyWeightSquats',\n",
       " 'BrushingTeeth',\n",
       " 'Knitting',\n",
       " 'Bowling',\n",
       " 'ShavingBeard',\n",
       " 'TaiChi',\n",
       " 'JumpingJack',\n",
       " 'Archery',\n",
       " 'CuttingInKitchen',\n",
       " 'BandMarching',\n",
       " 'RopeClimbing',\n",
       " 'Lunges',\n",
       " 'Kayaking',\n",
       " 'CricketBowling',\n",
       " 'PlayingPiano',\n",
       " 'PlayingDaf',\n",
       " 'PlayingSitar',\n",
       " 'JugglingBalls',\n",
       " 'Billiards',\n",
       " 'WalkingWithDog',\n",
       " 'Haircut',\n",
       " 'Nunchucks',\n",
       " 'TennisSwing',\n",
       " 'SumoWrestling',\n",
       " 'VolleyballSpiking',\n",
       " 'Surfing',\n",
       " 'Mixing',\n",
       " 'HorseRiding',\n",
       " 'BlowingCandles',\n",
       " 'MoppingFloor',\n",
       " 'FrontCrawl',\n",
       " 'TrampolineJumping',\n",
       " 'PlayingGuitar',\n",
       " 'CliffDiving',\n",
       " 'PommelHorse',\n",
       " 'PlayingCello',\n",
       " 'SalsaSpin',\n",
       " 'SoccerJuggling',\n",
       " 'Drumming',\n",
       " 'ApplyLipstick',\n",
       " 'PlayingDhol',\n",
       " 'ParallelBars',\n",
       " 'Basketball',\n",
       " 'Rowing',\n",
       " 'WritingOnBoard',\n",
       " 'MilitaryParade',\n",
       " 'IceDancing',\n",
       " 'PizzaTossing',\n",
       " 'BoxingPunchingBag',\n",
       " 'GolfSwing',\n",
       " 'Fencing',\n",
       " 'SkateBoarding',\n",
       " 'Punch',\n",
       " 'ThrowDiscus',\n",
       " 'PullUps',\n",
       " 'WallPushups',\n",
       " 'BalanceBeam',\n",
       " 'Skiing',\n",
       " 'CricketShot',\n",
       " 'Diving',\n",
       " 'FrisbeeCatch',\n",
       " 'Biking',\n",
       " 'PlayingTabla',\n",
       " 'Hammering',\n",
       " 'SoccerPenalty',\n",
       " 'PlayingViolin',\n",
       " 'BenchPress',\n",
       " 'FieldHockeyPenalty',\n",
       " 'BasketballDunk',\n",
       " 'LongJump',\n",
       " 'PoleVault',\n",
       " 'PlayingFlute',\n",
       " 'TableTennisShot',\n",
       " 'HammerThrow',\n",
       " 'SkyDiving',\n",
       " 'FloorGymnastics',\n",
       " 'HorseRace',\n",
       " 'ApplyEyeMakeup',\n",
       " 'Shotput',\n",
       " 'CleanAndJerk',\n",
       " 'HighJump',\n",
       " 'HulaHoop']"
      ]
     },
     "execution_count": 5,
     "metadata": {},
     "output_type": "execute_result"
    }
   ],
   "source": [
    "path = \"/data/UCF/five-video-classification-methods/data/train\"\n",
    "onlyfiles = [f for f in os.listdir(path)]\n",
    "onlyfiles\n"
   ]
  },
  {
   "cell_type": "code",
   "execution_count": 9,
   "metadata": {},
   "outputs": [
    {
     "data": {
      "text/plain": [
       "11775"
      ]
     },
     "execution_count": 9,
     "metadata": {},
     "output_type": "execute_result"
    }
   ],
   "source": [
    "images = sorted([f for f in os.listdir(path+\"/\"+onlyfiles[0])])\n",
    "len(images)"
   ]
  },
  {
   "cell_type": "code",
   "execution_count": null,
   "metadata": {},
   "outputs": [],
   "source": [
    "def label_frames(batch, commercials, copyimage=True):\n",
    "    \"\"\"Label our frames.\"\"\"\n",
    "    # Get all our images.\n",
    "    images = sorted(glob.glob('./images/' + str(batch) + '/*'))\n",
    "    num_images = len(images)\n",
    "\n",
    "    print(\"Labelling %d frames.\" % num_images)\n",
    "\n",
    "    # Loop through our images and set our labels.\n",
    "    labeled_images = []\n",
    "    num_commercials = 0\n",
    "    for image in images:\n",
    "        # Get the timestamp.\n",
    "        timestamp = image.replace('.jpg', '').split('/')[-1]\n",
    "\n",
    "        # What is it?\n",
    "        label = get_label(timestamp, commercials)\n",
    "\n",
    "        # Save it.\n",
    "        labeled_images.append([timestamp, label])\n",
    "\n",
    "        # Copy it.\n",
    "        if copyimage:\n",
    "            copyfile(image, './images/classifications/' + label + '/' + timestamp + '.jpg')\n",
    "\n",
    "        # Info.\n",
    "        if label == 'ad':\n",
    "            num_commercials += 1\n",
    "\n",
    "    print(\"Done labelling, with %d commercial frames and %d not.\" %\n",
    "          (num_commercials, num_images - num_commercials))\n",
    "\n",
    "    with open('data/labeled-frames-' + str(batch) + '.pkl', 'wb') as fout:\n",
    "        pickle.dump(labeled_images, fout)\n",
    "\n",
    "    return labeled_images"
   ]
  }
 ],
 "metadata": {
  "kernelspec": {
   "display_name": "Python 3",
   "language": "python",
   "name": "python3"
  },
  "language_info": {
   "codemirror_mode": {
    "name": "ipython",
    "version": 3
   },
   "file_extension": ".py",
   "mimetype": "text/x-python",
   "name": "python",
   "nbconvert_exporter": "python",
   "pygments_lexer": "ipython3",
   "version": "3.5.2"
  }
 },
 "nbformat": 4,
 "nbformat_minor": 2
}
